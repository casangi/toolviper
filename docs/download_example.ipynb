{
 "cells": [
  {
   "cell_type": "code",
   "execution_count": 1,
   "id": "5d86886d-fa1d-4c53-8c07-cf0ee1378211",
   "metadata": {},
   "outputs": [],
   "source": [
    "import toolviper"
   ]
  },
  {
   "cell_type": "markdown",
   "id": "01bc8397-af47-48df-8391-733bba286588",
   "metadata": {},
   "source": [
    "## Getting download metadata version\n",
    "#### This will retireve the current file download metadata version; if the file is not found it will attempt to update to the most recent version."
   ]
  },
  {
   "cell_type": "code",
   "execution_count": 2,
   "id": "16a174c2-5d8a-4cfc-a423-a1541adcaf21",
   "metadata": {},
   "outputs": [
    {
     "name": "stdout",
     "output_type": "stream",
     "text": [
      "[\u001b[38;2;128;05;128m2024-07-15 11:05:39,226\u001b[0m] \u001b[38;2;50;50;205m    INFO\u001b[0m\u001b[38;2;112;128;144m  toolviper: \u001b[0m v0.0.0 \n"
     ]
    }
   ],
   "source": [
    "toolviper.utils.data.version()"
   ]
  },
  {
   "cell_type": "markdown",
   "id": "fe18a0d9-bd21-4ce5-91fd-6348e5f1369e",
   "metadata": {},
   "source": [
    "### Manually update metdata info."
   ]
  },
  {
   "cell_type": "code",
   "execution_count": 3,
   "id": "deeee662-94d9-44a0-95e7-f062f55223ca",
   "metadata": {},
   "outputs": [
    {
     "name": "stdout",
     "output_type": "stream",
     "text": [
      "[\u001b[38;2;128;05;128m2024-07-15 11:05:39,236\u001b[0m] \u001b[38;2;255;160;0m WARNING\u001b[0m\u001b[38;2;112;128;144m  toolviper: \u001b[0m File exists: \u001b[38;2;50;50;205m/export/home/fornax/Development/toolviper-i32/src/toolviper/utils/data/.dropbox\u001b[0m \n",
      "[\u001b[38;2;128;05;128m2024-07-15 11:05:39,236\u001b[0m] \u001b[38;2;50;50;205m    INFO\u001b[0m\u001b[38;2;112;128;144m  toolviper: \u001b[0m Updating file metadata information ...  \n",
      " "
     ]
    }
   ],
   "source": [
    "toolviper.utils.data.update()"
   ]
  },
  {
   "cell_type": "markdown",
   "id": "0351dda7-7559-449d-9ebb-c853beb0861e",
   "metadata": {},
   "source": [
    "## Getting available downloadable file in a python list.\n",
    "#### This will return an unordered list of the available file on the remote dropbox in a python list. This can be used as an input to thie download function as well."
   ]
  },
  {
   "cell_type": "code",
   "execution_count": 4,
   "id": "2912a5ae-7a4b-42f3-a633-cbe5ecaffc74",
   "metadata": {},
   "outputs": [
    {
     "data": {
      "text/plain": [
       "['ea25_cal_small_before_fixed.split.ms',\n",
       " 'ea25_cal_small_after_fixed.split.ms',\n",
       " 'J1924-2914.ms.calibrated.split.SPW3',\n",
       " 'extract_holog_verification.json',\n",
       " 'holog_numerical_verification.json',\n",
       " 'locit-input-pha.cal',\n",
       " 'panel_cutoff_mask',\n",
       " 'heuristic_model',\n",
       " 'panel_test_files',\n",
       " 'AA2-Mid-sim_00000.ms',\n",
       " 'Antennae_M8.img.zarr',\n",
       " 'Antennae_North.cal.lsrk.ms',\n",
       " 'Antennae_North.cal.lsrk.vis.zarr',\n",
       " 'Antennae_North.cal.lsrk.split.ms',\n",
       " 'Antennae_North.cal.lsrk.split.vis.zarr',\n",
       " 'complex_valued_uv.im',\n",
       " 'demo_simulated.im',\n",
       " 'no_mask.im',\n",
       " 'small_lofar.ms',\n",
       " 'small_meerkat.ms',\n",
       " 'global_vlbi_gg084b_reduced.ms',\n",
       " 'VLBA_TL016B_split_lsrk.ms',\n",
       " 'ngEHT_E17A10.0.bin0000.source0000_split_lsrk.ms',\n",
       " 'venus_ephem_test.ms',\n",
       " 'sdimaging.ms',\n",
       " 'ALMA_uid___A002_X1003af4_X75a3.split.avg.ms',\n",
       " 'feather_sim_sd_c1_pI.im',\n",
       " 'feather_sim_vla_c1_pI.im',\n",
       " 'ngEHT_E17A10.0.bin0000.source0000_split.ms',\n",
       " 'VLBA_TL016B_split.ms',\n",
       " 'combine_weight_array']"
      ]
     },
     "execution_count": 4,
     "metadata": {},
     "output_type": "execute_result"
    }
   ],
   "source": [
    "files = toolviper.utils.data.get_files()\n",
    "files"
   ]
  },
  {
   "cell_type": "code",
   "execution_count": 5,
   "id": "28c8b343-3a05-4217-a581-e51c7db95d02",
   "metadata": {},
   "outputs": [
    {
     "name": "stdout",
     "output_type": "stream",
     "text": [
      "[\u001b[38;2;128;05;128m2024-07-15 11:05:39,914\u001b[0m] \u001b[38;2;255;160;0m WARNING\u001b[0m\u001b[38;2;112;128;144m  toolviper: \u001b[0m File exists: \u001b[38;2;50;50;205m/export/home/fornax/Development/toolviper-i32/src/toolviper/utils/data/.dropbox\u001b[0m \n",
      "[\u001b[38;2;128;05;128m2024-07-15 11:05:39,914\u001b[0m] \u001b[38;2;50;50;205m    INFO\u001b[0m\u001b[38;2;112;128;144m  toolviper: \u001b[0m Updating file metadata information ...  \n",
      " "
     ]
    },
    {
     "data": {
      "text/html": [
       "<pre style=\"white-space:pre;overflow-x:auto;line-height:normal;font-family:Menlo,'DejaVu Sans Mono',consolas,'Courier New',monospace\">                                        \n",
       " <span style=\"font-weight: bold\"> Download List                        </span> \n",
       " ────────────────────────────────────── \n",
       "  <span style=\"color: #800080; text-decoration-color: #800080\">ea25_cal_small_before_fixed.split.ms</span>  \n",
       "  <span style=\"color: #800080; text-decoration-color: #800080\">ea25_cal_small_after_fixed.split.ms</span>   \n",
       "                                        \n",
       "</pre>\n"
      ],
      "text/plain": [
       "                                        \n",
       " \u001b[1m \u001b[0m\u001b[1mDownload List                       \u001b[0m\u001b[1m \u001b[0m \n",
       " ────────────────────────────────────── \n",
       "  \u001b[35mea25_cal_small_before_fixed.split.ms\u001b[0m  \n",
       "  \u001b[35mea25_cal_small_after_fixed.split.ms\u001b[0m   \n",
       "                                        \n"
      ]
     },
     "metadata": {},
     "output_type": "display_data"
    },
    {
     "name": "stdout",
     "output_type": "stream",
     "text": [
      "[\u001b[38;2;128;05;128m2024-07-15 11:05:40,535\u001b[0m] \u001b[38;2;50;50;205m    INFO\u001b[0m\u001b[38;2;112;128;144m  toolviper: \u001b[0m File exists: data/ea25_cal_small_before_fixed.split.ms \n",
      "[\u001b[38;2;128;05;128m2024-07-15 11:05:40,536\u001b[0m] \u001b[38;2;50;50;205m    INFO\u001b[0m\u001b[38;2;112;128;144m  toolviper: \u001b[0m File exists: data/ea25_cal_small_after_fixed.split.ms \n"
     ]
    }
   ],
   "source": [
    "toolviper.utils.data.download(file=files[:2], folder=\"data\")"
   ]
  },
  {
   "cell_type": "markdown",
   "id": "fdf5ec65-a98b-412b-b5c6-3b4bb23e8312",
   "metadata": {},
   "source": [
    "## Getting available files and metadata in table form."
   ]
  },
  {
   "cell_type": "code",
   "execution_count": 6,
   "id": "2439445a-d7fe-4bea-bc43-6edb131447cc",
   "metadata": {},
   "outputs": [
    {
     "data": {
      "text/html": [
       "<pre style=\"white-space:pre;overflow-x:auto;line-height:normal;font-family:Menlo,'DejaVu Sans Mono',consolas,'Courier New',monospace\">┏━━━━━━━━━━━━━━━━━━━━━━━━━━━━━━━━━━━━━━━━━━┳━━━━━━━━━━━━━━━━┳━━━━━━━━━━━━━┳━━━━━━━━━━┳━━━━━━━━━━━━━━━━━━━━━━━━━━━━┓\n",
       "┃<span style=\"font-weight: bold\"> file                                     </span>┃<span style=\"font-weight: bold\"> dtype          </span>┃<span style=\"font-weight: bold\"> telescope   </span>┃<span style=\"font-weight: bold\"> size     </span>┃<span style=\"font-weight: bold\"> mode                       </span>┃\n",
       "┡━━━━━━━━━━━━━━━━━━━━━━━━━━━━━━━━━━━━━━━━━━╇━━━━━━━━━━━━━━━━╇━━━━━━━━━━━━━╇━━━━━━━━━━╇━━━━━━━━━━━━━━━━━━━━━━━━━━━━┩\n",
       "│<span style=\"color: #000080; text-decoration-color: #000080\"> ea25_cal_small_before_fixed.split.ms     </span>│<span style=\"color: #008000; text-decoration-color: #008000\"> CASA MS v2     </span>│<span style=\"color: #008000; text-decoration-color: #008000\"> VLA         </span>│<span style=\"color: #008000; text-decoration-color: #008000\"> 0.209    </span>│<span style=\"color: #008000; text-decoration-color: #008000\"> Holography                 </span>│\n",
       "├──────────────────────────────────────────┼────────────────┼─────────────┼──────────┼────────────────────────────┤\n",
       "│<span style=\"color: #000080; text-decoration-color: #000080\"> ea25_cal_small_after_fixed.split.ms      </span>│<span style=\"color: #008000; text-decoration-color: #008000\"> CASA MS v2     </span>│<span style=\"color: #008000; text-decoration-color: #008000\"> VLA         </span>│<span style=\"color: #008000; text-decoration-color: #008000\"> 0.209    </span>│<span style=\"color: #008000; text-decoration-color: #008000\"> Holography                 </span>│\n",
       "├──────────────────────────────────────────┼────────────────┼─────────────┼──────────┼────────────────────────────┤\n",
       "│<span style=\"color: #000080; text-decoration-color: #000080\"> J1924-2914.ms.calibrated.split.SPW3      </span>│<span style=\"color: #008000; text-decoration-color: #008000\"> CASA MS v2     </span>│<span style=\"color: #008000; text-decoration-color: #008000\"> ALMA        </span>│<span style=\"color: #008000; text-decoration-color: #008000\"> 0.055    </span>│<span style=\"color: #008000; text-decoration-color: #008000\"> Holography                 </span>│\n",
       "├──────────────────────────────────────────┼────────────────┼─────────────┼──────────┼────────────────────────────┤\n",
       "│<span style=\"color: #000080; text-decoration-color: #000080\"> extract_holog_verification.json          </span>│<span style=\"color: #008000; text-decoration-color: #008000\"> json           </span>│<span style=\"color: #008000; text-decoration-color: #008000\"> na          </span>│<span style=\"color: #008000; text-decoration-color: #008000\"> 0.000004 </span>│<span style=\"color: #008000; text-decoration-color: #008000\"> na                         </span>│\n",
       "├──────────────────────────────────────────┼────────────────┼─────────────┼──────────┼────────────────────────────┤\n",
       "│<span style=\"color: #000080; text-decoration-color: #000080\"> holog_numerical_verification.json        </span>│<span style=\"color: #008000; text-decoration-color: #008000\"> json           </span>│<span style=\"color: #008000; text-decoration-color: #008000\"> na          </span>│<span style=\"color: #008000; text-decoration-color: #008000\"> 0.000004 </span>│<span style=\"color: #008000; text-decoration-color: #008000\"> na                         </span>│\n",
       "├──────────────────────────────────────────┼────────────────┼─────────────┼──────────┼────────────────────────────┤\n",
       "│<span style=\"color: #000080; text-decoration-color: #000080\"> locit-input-pha.cal                      </span>│<span style=\"color: #008000; text-decoration-color: #008000\"> CASA Cal Table </span>│<span style=\"color: #008000; text-decoration-color: #008000\"> VLA         </span>│<span style=\"color: #008000; text-decoration-color: #008000\"> 0.000468 </span>│<span style=\"color: #008000; text-decoration-color: #008000\"> antenna location cal table </span>│\n",
       "├──────────────────────────────────────────┼────────────────┼─────────────┼──────────┼────────────────────────────┤\n",
       "│<span style=\"color: #000080; text-decoration-color: #000080\"> panel_cutoff_mask                        </span>│<span style=\"color: #008000; text-decoration-color: #008000\"> npy            </span>│<span style=\"color: #008000; text-decoration-color: #008000\"> na          </span>│<span style=\"color: #008000; text-decoration-color: #008000\"> 0.000348 </span>│<span style=\"color: #008000; text-decoration-color: #008000\"> na                         </span>│\n",
       "├──────────────────────────────────────────┼────────────────┼─────────────┼──────────┼────────────────────────────┤\n",
       "│<span style=\"color: #000080; text-decoration-color: #000080\"> heuristic_model                          </span>│<span style=\"color: #008000; text-decoration-color: #008000\"> bin            </span>│<span style=\"color: #008000; text-decoration-color: #008000\"> na          </span>│<span style=\"color: #008000; text-decoration-color: #008000\"> 0.000004 </span>│<span style=\"color: #008000; text-decoration-color: #008000\"> na                         </span>│\n",
       "├──────────────────────────────────────────┼────────────────┼─────────────┼──────────┼────────────────────────────┤\n",
       "│<span style=\"color: #000080; text-decoration-color: #000080\"> panel_test_files                         </span>│<span style=\"color: #008000; text-decoration-color: #008000\"> na             </span>│<span style=\"color: #008000; text-decoration-color: #008000\"> na          </span>│<span style=\"color: #008000; text-decoration-color: #008000\">          </span>│<span style=\"color: #008000; text-decoration-color: #008000\"> na                         </span>│\n",
       "├──────────────────────────────────────────┼────────────────┼─────────────┼──────────┼────────────────────────────┤\n",
       "│<span style=\"color: #000080; text-decoration-color: #000080\"> AA2-Mid-sim_00000.ms                     </span>│<span style=\"color: #008000; text-decoration-color: #008000\"> CASA MS v2     </span>│<span style=\"color: #008000; text-decoration-color: #008000\"> SKA Mid     </span>│<span style=\"color: #008000; text-decoration-color: #008000\"> 0.029    </span>│<span style=\"color: #008000; text-decoration-color: #008000\"> Simulated Interferometer   </span>│\n",
       "├──────────────────────────────────────────┼────────────────┼─────────────┼──────────┼────────────────────────────┤\n",
       "│<span style=\"color: #000080; text-decoration-color: #000080\"> Antennae_M8.img.zarr                     </span>│<span style=\"color: #008000; text-decoration-color: #008000\"> zarr           </span>│<span style=\"color: #008000; text-decoration-color: #008000\"> ALMA        </span>│<span style=\"color: #008000; text-decoration-color: #008000\"> 0.014    </span>│<span style=\"color: #008000; text-decoration-color: #008000\"> Interferometer Mosaic      </span>│\n",
       "├──────────────────────────────────────────┼────────────────┼─────────────┼──────────┼────────────────────────────┤\n",
       "│<span style=\"color: #000080; text-decoration-color: #000080\"> Antennae_North.cal.lsrk.ms               </span>│<span style=\"color: #008000; text-decoration-color: #008000\"> CASA MS v2     </span>│<span style=\"color: #008000; text-decoration-color: #008000\"> ALMA        </span>│<span style=\"color: #008000; text-decoration-color: #008000\"> 0.202    </span>│<span style=\"color: #008000; text-decoration-color: #008000\"> Interferometer Mosaic      </span>│\n",
       "├──────────────────────────────────────────┼────────────────┼─────────────┼──────────┼────────────────────────────┤\n",
       "│<span style=\"color: #000080; text-decoration-color: #000080\"> Antennae_North.cal.lsrk.vis.zarr         </span>│<span style=\"color: #008000; text-decoration-color: #008000\"> zarr           </span>│<span style=\"color: #008000; text-decoration-color: #008000\"> ALMA        </span>│<span style=\"color: #008000; text-decoration-color: #008000\"> 0.207    </span>│<span style=\"color: #008000; text-decoration-color: #008000\"> Interferometer Mosaic      </span>│\n",
       "├──────────────────────────────────────────┼────────────────┼─────────────┼──────────┼────────────────────────────┤\n",
       "│<span style=\"color: #000080; text-decoration-color: #000080\"> Antennae_North.cal.lsrk.split.ms         </span>│<span style=\"color: #008000; text-decoration-color: #008000\"> CASA MS v2     </span>│<span style=\"color: #008000; text-decoration-color: #008000\"> ALMA        </span>│<span style=\"color: #008000; text-decoration-color: #008000\"> 0.0056   </span>│<span style=\"color: #008000; text-decoration-color: #008000\"> Interferometer Mosaic      </span>│\n",
       "├──────────────────────────────────────────┼────────────────┼─────────────┼──────────┼────────────────────────────┤\n",
       "│<span style=\"color: #000080; text-decoration-color: #000080\"> Antennae_North.cal.lsrk.split.vis.zarr   </span>│<span style=\"color: #008000; text-decoration-color: #008000\"> zarr           </span>│<span style=\"color: #008000; text-decoration-color: #008000\"> ALMA        </span>│<span style=\"color: #008000; text-decoration-color: #008000\"> 0.0047   </span>│<span style=\"color: #008000; text-decoration-color: #008000\"> Interferometer Mosaic      </span>│\n",
       "├──────────────────────────────────────────┼────────────────┼─────────────┼──────────┼────────────────────────────┤\n",
       "│<span style=\"color: #000080; text-decoration-color: #000080\"> complex_valued_uv.im                     </span>│<span style=\"color: #008000; text-decoration-color: #008000\"> image          </span>│<span style=\"color: #008000; text-decoration-color: #008000\"> Simulated   </span>│<span style=\"color: #008000; text-decoration-color: #008000\"> 0.768    </span>│<span style=\"color: #008000; text-decoration-color: #008000\"> Simulated                  </span>│\n",
       "├──────────────────────────────────────────┼────────────────┼─────────────┼──────────┼────────────────────────────┤\n",
       "│<span style=\"color: #000080; text-decoration-color: #000080\"> demo_simulated.im                        </span>│<span style=\"color: #008000; text-decoration-color: #008000\"> image          </span>│<span style=\"color: #008000; text-decoration-color: #008000\"> Simulated   </span>│<span style=\"color: #008000; text-decoration-color: #008000\"> 0.017    </span>│<span style=\"color: #008000; text-decoration-color: #008000\"> Simulated                  </span>│\n",
       "├──────────────────────────────────────────┼────────────────┼─────────────┼──────────┼────────────────────────────┤\n",
       "│<span style=\"color: #000080; text-decoration-color: #000080\"> no_mask.im                               </span>│<span style=\"color: #008000; text-decoration-color: #008000\"> image          </span>│<span style=\"color: #008000; text-decoration-color: #008000\"> Simulated   </span>│<span style=\"color: #008000; text-decoration-color: #008000\"> 0.236    </span>│<span style=\"color: #008000; text-decoration-color: #008000\"> Simulated                  </span>│\n",
       "├──────────────────────────────────────────┼────────────────┼─────────────┼──────────┼────────────────────────────┤\n",
       "│<span style=\"color: #000080; text-decoration-color: #000080\"> small_lofar.ms                           </span>│<span style=\"color: #008000; text-decoration-color: #008000\"> CASA MS v2     </span>│<span style=\"color: #008000; text-decoration-color: #008000\"> LOFAR       </span>│<span style=\"color: #008000; text-decoration-color: #008000\"> 0.021    </span>│<span style=\"color: #008000; text-decoration-color: #008000\"> Interferometer             </span>│\n",
       "├──────────────────────────────────────────┼────────────────┼─────────────┼──────────┼────────────────────────────┤\n",
       "│<span style=\"color: #000080; text-decoration-color: #000080\"> small_meerkat.ms                         </span>│<span style=\"color: #008000; text-decoration-color: #008000\"> CASA MS v2     </span>│<span style=\"color: #008000; text-decoration-color: #008000\"> MeerKAT     </span>│<span style=\"color: #008000; text-decoration-color: #008000\"> 0.018    </span>│<span style=\"color: #008000; text-decoration-color: #008000\"> Interferometer             </span>│\n",
       "├──────────────────────────────────────────┼────────────────┼─────────────┼──────────┼────────────────────────────┤\n",
       "│<span style=\"color: #000080; text-decoration-color: #000080\"> global_vlbi_gg084b_reduced.ms            </span>│<span style=\"color: #008000; text-decoration-color: #008000\"> CASA MS v2     </span>│<span style=\"color: #008000; text-decoration-color: #008000\"> GLOBAL VLBI </span>│<span style=\"color: #008000; text-decoration-color: #008000\"> 0.051    </span>│<span style=\"color: #008000; text-decoration-color: #008000\"> VLBI                       </span>│\n",
       "├──────────────────────────────────────────┼────────────────┼─────────────┼──────────┼────────────────────────────┤\n",
       "│<span style=\"color: #000080; text-decoration-color: #000080\"> VLBA_TL016B_split_lsrk.ms                </span>│<span style=\"color: #008000; text-decoration-color: #008000\"> CASA MS v2     </span>│<span style=\"color: #008000; text-decoration-color: #008000\"> VLBA        </span>│<span style=\"color: #008000; text-decoration-color: #008000\"> 0.019    </span>│<span style=\"color: #008000; text-decoration-color: #008000\"> VLBI                       </span>│\n",
       "├──────────────────────────────────────────┼────────────────┼─────────────┼──────────┼────────────────────────────┤\n",
       "│<span style=\"color: #000080; text-decoration-color: #000080\"> ngEHT_E17A10.0.bin0000.source0000_split… </span>│<span style=\"color: #008000; text-decoration-color: #008000\"> CASA MS v2     </span>│<span style=\"color: #008000; text-decoration-color: #008000\"> ngEHT       </span>│<span style=\"color: #008000; text-decoration-color: #008000\"> 0.022    </span>│<span style=\"color: #008000; text-decoration-color: #008000\"> Simulated Interferometer   </span>│\n",
       "├──────────────────────────────────────────┼────────────────┼─────────────┼──────────┼────────────────────────────┤\n",
       "│<span style=\"color: #000080; text-decoration-color: #000080\"> venus_ephem_test.ms                      </span>│<span style=\"color: #008000; text-decoration-color: #008000\"> CASA MS v2     </span>│<span style=\"color: #008000; text-decoration-color: #008000\"> ALMA        </span>│<span style=\"color: #008000; text-decoration-color: #008000\"> 0.035    </span>│<span style=\"color: #008000; text-decoration-color: #008000\"> Interferometer Ephemeris   </span>│\n",
       "├──────────────────────────────────────────┼────────────────┼─────────────┼──────────┼────────────────────────────┤\n",
       "│<span style=\"color: #000080; text-decoration-color: #000080\"> sdimaging.ms                             </span>│<span style=\"color: #008000; text-decoration-color: #008000\"> CASA MS v2     </span>│<span style=\"color: #008000; text-decoration-color: #008000\"> ALMA        </span>│<span style=\"color: #008000; text-decoration-color: #008000\"> 0.035    </span>│<span style=\"color: #008000; text-decoration-color: #008000\"> Single Dish                </span>│\n",
       "├──────────────────────────────────────────┼────────────────┼─────────────┼──────────┼────────────────────────────┤\n",
       "│<span style=\"color: #000080; text-decoration-color: #000080\"> ALMA_uid___A002_X1003af4_X75a3.split.av… </span>│<span style=\"color: #008000; text-decoration-color: #008000\"> CASA MS v2     </span>│<span style=\"color: #008000; text-decoration-color: #008000\"> ALMA        </span>│<span style=\"color: #008000; text-decoration-color: #008000\"> 0.107    </span>│<span style=\"color: #008000; text-decoration-color: #008000\"> Interferometer Ephemeris   </span>│\n",
       "├──────────────────────────────────────────┼────────────────┼─────────────┼──────────┼────────────────────────────┤\n",
       "│<span style=\"color: #000080; text-decoration-color: #000080\"> feather_sim_sd_c1_pI.im                  </span>│<span style=\"color: #008000; text-decoration-color: #008000\"> image          </span>│<span style=\"color: #008000; text-decoration-color: #008000\"> Simulated   </span>│<span style=\"color: #008000; text-decoration-color: #008000\"> 0.065    </span>│<span style=\"color: #008000; text-decoration-color: #008000\"> Simulated                  </span>│\n",
       "├──────────────────────────────────────────┼────────────────┼─────────────┼──────────┼────────────────────────────┤\n",
       "│<span style=\"color: #000080; text-decoration-color: #000080\"> feather_sim_vla_c1_pI.im                 </span>│<span style=\"color: #008000; text-decoration-color: #008000\"> image          </span>│<span style=\"color: #008000; text-decoration-color: #008000\"> Simulated   </span>│<span style=\"color: #008000; text-decoration-color: #008000\"> 0.065    </span>│<span style=\"color: #008000; text-decoration-color: #008000\"> Simulated                  </span>│\n",
       "├──────────────────────────────────────────┼────────────────┼─────────────┼──────────┼────────────────────────────┤\n",
       "│<span style=\"color: #000080; text-decoration-color: #000080\"> ngEHT_E17A10.0.bin0000.source0000_split… </span>│<span style=\"color: #008000; text-decoration-color: #008000\"> CASA MS v2     </span>│<span style=\"color: #008000; text-decoration-color: #008000\"> ngEHT       </span>│<span style=\"color: #008000; text-decoration-color: #008000\"> 0.022    </span>│<span style=\"color: #008000; text-decoration-color: #008000\"> Simulated                  </span>│\n",
       "├──────────────────────────────────────────┼────────────────┼─────────────┼──────────┼────────────────────────────┤\n",
       "│<span style=\"color: #000080; text-decoration-color: #000080\"> VLBA_TL016B_split.ms                     </span>│<span style=\"color: #008000; text-decoration-color: #008000\"> CASA MS v2     </span>│<span style=\"color: #008000; text-decoration-color: #008000\"> VLBA        </span>│<span style=\"color: #008000; text-decoration-color: #008000\"> 0.019    </span>│<span style=\"color: #008000; text-decoration-color: #008000\"> Interferometer             </span>│\n",
       "├──────────────────────────────────────────┼────────────────┼─────────────┼──────────┼────────────────────────────┤\n",
       "│<span style=\"color: #000080; text-decoration-color: #000080\"> combine_weight_array                     </span>│<span style=\"color: #008000; text-decoration-color: #008000\"> npy            </span>│<span style=\"color: #008000; text-decoration-color: #008000\"> na          </span>│<span style=\"color: #008000; text-decoration-color: #008000\"> 0.0094   </span>│<span style=\"color: #008000; text-decoration-color: #008000\"> na                         </span>│\n",
       "└──────────────────────────────────────────┴────────────────┴─────────────┴──────────┴────────────────────────────┘\n",
       "</pre>\n"
      ],
      "text/plain": [
       "┏━━━━━━━━━━━━━━━━━━━━━━━━━━━━━━━━━━━━━━━━━━┳━━━━━━━━━━━━━━━━┳━━━━━━━━━━━━━┳━━━━━━━━━━┳━━━━━━━━━━━━━━━━━━━━━━━━━━━━┓\n",
       "┃\u001b[1m \u001b[0m\u001b[1mfile                                    \u001b[0m\u001b[1m \u001b[0m┃\u001b[1m \u001b[0m\u001b[1mdtype         \u001b[0m\u001b[1m \u001b[0m┃\u001b[1m \u001b[0m\u001b[1mtelescope  \u001b[0m\u001b[1m \u001b[0m┃\u001b[1m \u001b[0m\u001b[1msize    \u001b[0m\u001b[1m \u001b[0m┃\u001b[1m \u001b[0m\u001b[1mmode                      \u001b[0m\u001b[1m \u001b[0m┃\n",
       "┡━━━━━━━━━━━━━━━━━━━━━━━━━━━━━━━━━━━━━━━━━━╇━━━━━━━━━━━━━━━━╇━━━━━━━━━━━━━╇━━━━━━━━━━╇━━━━━━━━━━━━━━━━━━━━━━━━━━━━┩\n",
       "│\u001b[34m \u001b[0m\u001b[34mea25_cal_small_before_fixed.split.ms    \u001b[0m\u001b[34m \u001b[0m│\u001b[32m \u001b[0m\u001b[32mCASA MS v2    \u001b[0m\u001b[32m \u001b[0m│\u001b[32m \u001b[0m\u001b[32mVLA        \u001b[0m\u001b[32m \u001b[0m│\u001b[32m \u001b[0m\u001b[32m0.209   \u001b[0m\u001b[32m \u001b[0m│\u001b[32m \u001b[0m\u001b[32mHolography                \u001b[0m\u001b[32m \u001b[0m│\n",
       "├──────────────────────────────────────────┼────────────────┼─────────────┼──────────┼────────────────────────────┤\n",
       "│\u001b[34m \u001b[0m\u001b[34mea25_cal_small_after_fixed.split.ms     \u001b[0m\u001b[34m \u001b[0m│\u001b[32m \u001b[0m\u001b[32mCASA MS v2    \u001b[0m\u001b[32m \u001b[0m│\u001b[32m \u001b[0m\u001b[32mVLA        \u001b[0m\u001b[32m \u001b[0m│\u001b[32m \u001b[0m\u001b[32m0.209   \u001b[0m\u001b[32m \u001b[0m│\u001b[32m \u001b[0m\u001b[32mHolography                \u001b[0m\u001b[32m \u001b[0m│\n",
       "├──────────────────────────────────────────┼────────────────┼─────────────┼──────────┼────────────────────────────┤\n",
       "│\u001b[34m \u001b[0m\u001b[34mJ1924-2914.ms.calibrated.split.SPW3     \u001b[0m\u001b[34m \u001b[0m│\u001b[32m \u001b[0m\u001b[32mCASA MS v2    \u001b[0m\u001b[32m \u001b[0m│\u001b[32m \u001b[0m\u001b[32mALMA       \u001b[0m\u001b[32m \u001b[0m│\u001b[32m \u001b[0m\u001b[32m0.055   \u001b[0m\u001b[32m \u001b[0m│\u001b[32m \u001b[0m\u001b[32mHolography                \u001b[0m\u001b[32m \u001b[0m│\n",
       "├──────────────────────────────────────────┼────────────────┼─────────────┼──────────┼────────────────────────────┤\n",
       "│\u001b[34m \u001b[0m\u001b[34mextract_holog_verification.json         \u001b[0m\u001b[34m \u001b[0m│\u001b[32m \u001b[0m\u001b[32mjson          \u001b[0m\u001b[32m \u001b[0m│\u001b[32m \u001b[0m\u001b[32mna         \u001b[0m\u001b[32m \u001b[0m│\u001b[32m \u001b[0m\u001b[32m0.000004\u001b[0m\u001b[32m \u001b[0m│\u001b[32m \u001b[0m\u001b[32mna                        \u001b[0m\u001b[32m \u001b[0m│\n",
       "├──────────────────────────────────────────┼────────────────┼─────────────┼──────────┼────────────────────────────┤\n",
       "│\u001b[34m \u001b[0m\u001b[34mholog_numerical_verification.json       \u001b[0m\u001b[34m \u001b[0m│\u001b[32m \u001b[0m\u001b[32mjson          \u001b[0m\u001b[32m \u001b[0m│\u001b[32m \u001b[0m\u001b[32mna         \u001b[0m\u001b[32m \u001b[0m│\u001b[32m \u001b[0m\u001b[32m0.000004\u001b[0m\u001b[32m \u001b[0m│\u001b[32m \u001b[0m\u001b[32mna                        \u001b[0m\u001b[32m \u001b[0m│\n",
       "├──────────────────────────────────────────┼────────────────┼─────────────┼──────────┼────────────────────────────┤\n",
       "│\u001b[34m \u001b[0m\u001b[34mlocit-input-pha.cal                     \u001b[0m\u001b[34m \u001b[0m│\u001b[32m \u001b[0m\u001b[32mCASA Cal Table\u001b[0m\u001b[32m \u001b[0m│\u001b[32m \u001b[0m\u001b[32mVLA        \u001b[0m\u001b[32m \u001b[0m│\u001b[32m \u001b[0m\u001b[32m0.000468\u001b[0m\u001b[32m \u001b[0m│\u001b[32m \u001b[0m\u001b[32mantenna location cal table\u001b[0m\u001b[32m \u001b[0m│\n",
       "├──────────────────────────────────────────┼────────────────┼─────────────┼──────────┼────────────────────────────┤\n",
       "│\u001b[34m \u001b[0m\u001b[34mpanel_cutoff_mask                       \u001b[0m\u001b[34m \u001b[0m│\u001b[32m \u001b[0m\u001b[32mnpy           \u001b[0m\u001b[32m \u001b[0m│\u001b[32m \u001b[0m\u001b[32mna         \u001b[0m\u001b[32m \u001b[0m│\u001b[32m \u001b[0m\u001b[32m0.000348\u001b[0m\u001b[32m \u001b[0m│\u001b[32m \u001b[0m\u001b[32mna                        \u001b[0m\u001b[32m \u001b[0m│\n",
       "├──────────────────────────────────────────┼────────────────┼─────────────┼──────────┼────────────────────────────┤\n",
       "│\u001b[34m \u001b[0m\u001b[34mheuristic_model                         \u001b[0m\u001b[34m \u001b[0m│\u001b[32m \u001b[0m\u001b[32mbin           \u001b[0m\u001b[32m \u001b[0m│\u001b[32m \u001b[0m\u001b[32mna         \u001b[0m\u001b[32m \u001b[0m│\u001b[32m \u001b[0m\u001b[32m0.000004\u001b[0m\u001b[32m \u001b[0m│\u001b[32m \u001b[0m\u001b[32mna                        \u001b[0m\u001b[32m \u001b[0m│\n",
       "├──────────────────────────────────────────┼────────────────┼─────────────┼──────────┼────────────────────────────┤\n",
       "│\u001b[34m \u001b[0m\u001b[34mpanel_test_files                        \u001b[0m\u001b[34m \u001b[0m│\u001b[32m \u001b[0m\u001b[32mna            \u001b[0m\u001b[32m \u001b[0m│\u001b[32m \u001b[0m\u001b[32mna         \u001b[0m\u001b[32m \u001b[0m│\u001b[32m \u001b[0m\u001b[32m        \u001b[0m\u001b[32m \u001b[0m│\u001b[32m \u001b[0m\u001b[32mna                        \u001b[0m\u001b[32m \u001b[0m│\n",
       "├──────────────────────────────────────────┼────────────────┼─────────────┼──────────┼────────────────────────────┤\n",
       "│\u001b[34m \u001b[0m\u001b[34mAA2-Mid-sim_00000.ms                    \u001b[0m\u001b[34m \u001b[0m│\u001b[32m \u001b[0m\u001b[32mCASA MS v2    \u001b[0m\u001b[32m \u001b[0m│\u001b[32m \u001b[0m\u001b[32mSKA Mid    \u001b[0m\u001b[32m \u001b[0m│\u001b[32m \u001b[0m\u001b[32m0.029   \u001b[0m\u001b[32m \u001b[0m│\u001b[32m \u001b[0m\u001b[32mSimulated Interferometer  \u001b[0m\u001b[32m \u001b[0m│\n",
       "├──────────────────────────────────────────┼────────────────┼─────────────┼──────────┼────────────────────────────┤\n",
       "│\u001b[34m \u001b[0m\u001b[34mAntennae_M8.img.zarr                    \u001b[0m\u001b[34m \u001b[0m│\u001b[32m \u001b[0m\u001b[32mzarr          \u001b[0m\u001b[32m \u001b[0m│\u001b[32m \u001b[0m\u001b[32mALMA       \u001b[0m\u001b[32m \u001b[0m│\u001b[32m \u001b[0m\u001b[32m0.014   \u001b[0m\u001b[32m \u001b[0m│\u001b[32m \u001b[0m\u001b[32mInterferometer Mosaic     \u001b[0m\u001b[32m \u001b[0m│\n",
       "├──────────────────────────────────────────┼────────────────┼─────────────┼──────────┼────────────────────────────┤\n",
       "│\u001b[34m \u001b[0m\u001b[34mAntennae_North.cal.lsrk.ms              \u001b[0m\u001b[34m \u001b[0m│\u001b[32m \u001b[0m\u001b[32mCASA MS v2    \u001b[0m\u001b[32m \u001b[0m│\u001b[32m \u001b[0m\u001b[32mALMA       \u001b[0m\u001b[32m \u001b[0m│\u001b[32m \u001b[0m\u001b[32m0.202   \u001b[0m\u001b[32m \u001b[0m│\u001b[32m \u001b[0m\u001b[32mInterferometer Mosaic     \u001b[0m\u001b[32m \u001b[0m│\n",
       "├──────────────────────────────────────────┼────────────────┼─────────────┼──────────┼────────────────────────────┤\n",
       "│\u001b[34m \u001b[0m\u001b[34mAntennae_North.cal.lsrk.vis.zarr        \u001b[0m\u001b[34m \u001b[0m│\u001b[32m \u001b[0m\u001b[32mzarr          \u001b[0m\u001b[32m \u001b[0m│\u001b[32m \u001b[0m\u001b[32mALMA       \u001b[0m\u001b[32m \u001b[0m│\u001b[32m \u001b[0m\u001b[32m0.207   \u001b[0m\u001b[32m \u001b[0m│\u001b[32m \u001b[0m\u001b[32mInterferometer Mosaic     \u001b[0m\u001b[32m \u001b[0m│\n",
       "├──────────────────────────────────────────┼────────────────┼─────────────┼──────────┼────────────────────────────┤\n",
       "│\u001b[34m \u001b[0m\u001b[34mAntennae_North.cal.lsrk.split.ms        \u001b[0m\u001b[34m \u001b[0m│\u001b[32m \u001b[0m\u001b[32mCASA MS v2    \u001b[0m\u001b[32m \u001b[0m│\u001b[32m \u001b[0m\u001b[32mALMA       \u001b[0m\u001b[32m \u001b[0m│\u001b[32m \u001b[0m\u001b[32m0.0056  \u001b[0m\u001b[32m \u001b[0m│\u001b[32m \u001b[0m\u001b[32mInterferometer Mosaic     \u001b[0m\u001b[32m \u001b[0m│\n",
       "├──────────────────────────────────────────┼────────────────┼─────────────┼──────────┼────────────────────────────┤\n",
       "│\u001b[34m \u001b[0m\u001b[34mAntennae_North.cal.lsrk.split.vis.zarr  \u001b[0m\u001b[34m \u001b[0m│\u001b[32m \u001b[0m\u001b[32mzarr          \u001b[0m\u001b[32m \u001b[0m│\u001b[32m \u001b[0m\u001b[32mALMA       \u001b[0m\u001b[32m \u001b[0m│\u001b[32m \u001b[0m\u001b[32m0.0047  \u001b[0m\u001b[32m \u001b[0m│\u001b[32m \u001b[0m\u001b[32mInterferometer Mosaic     \u001b[0m\u001b[32m \u001b[0m│\n",
       "├──────────────────────────────────────────┼────────────────┼─────────────┼──────────┼────────────────────────────┤\n",
       "│\u001b[34m \u001b[0m\u001b[34mcomplex_valued_uv.im                    \u001b[0m\u001b[34m \u001b[0m│\u001b[32m \u001b[0m\u001b[32mimage         \u001b[0m\u001b[32m \u001b[0m│\u001b[32m \u001b[0m\u001b[32mSimulated  \u001b[0m\u001b[32m \u001b[0m│\u001b[32m \u001b[0m\u001b[32m0.768   \u001b[0m\u001b[32m \u001b[0m│\u001b[32m \u001b[0m\u001b[32mSimulated                 \u001b[0m\u001b[32m \u001b[0m│\n",
       "├──────────────────────────────────────────┼────────────────┼─────────────┼──────────┼────────────────────────────┤\n",
       "│\u001b[34m \u001b[0m\u001b[34mdemo_simulated.im                       \u001b[0m\u001b[34m \u001b[0m│\u001b[32m \u001b[0m\u001b[32mimage         \u001b[0m\u001b[32m \u001b[0m│\u001b[32m \u001b[0m\u001b[32mSimulated  \u001b[0m\u001b[32m \u001b[0m│\u001b[32m \u001b[0m\u001b[32m0.017   \u001b[0m\u001b[32m \u001b[0m│\u001b[32m \u001b[0m\u001b[32mSimulated                 \u001b[0m\u001b[32m \u001b[0m│\n",
       "├──────────────────────────────────────────┼────────────────┼─────────────┼──────────┼────────────────────────────┤\n",
       "│\u001b[34m \u001b[0m\u001b[34mno_mask.im                              \u001b[0m\u001b[34m \u001b[0m│\u001b[32m \u001b[0m\u001b[32mimage         \u001b[0m\u001b[32m \u001b[0m│\u001b[32m \u001b[0m\u001b[32mSimulated  \u001b[0m\u001b[32m \u001b[0m│\u001b[32m \u001b[0m\u001b[32m0.236   \u001b[0m\u001b[32m \u001b[0m│\u001b[32m \u001b[0m\u001b[32mSimulated                 \u001b[0m\u001b[32m \u001b[0m│\n",
       "├──────────────────────────────────────────┼────────────────┼─────────────┼──────────┼────────────────────────────┤\n",
       "│\u001b[34m \u001b[0m\u001b[34msmall_lofar.ms                          \u001b[0m\u001b[34m \u001b[0m│\u001b[32m \u001b[0m\u001b[32mCASA MS v2    \u001b[0m\u001b[32m \u001b[0m│\u001b[32m \u001b[0m\u001b[32mLOFAR      \u001b[0m\u001b[32m \u001b[0m│\u001b[32m \u001b[0m\u001b[32m0.021   \u001b[0m\u001b[32m \u001b[0m│\u001b[32m \u001b[0m\u001b[32mInterferometer            \u001b[0m\u001b[32m \u001b[0m│\n",
       "├──────────────────────────────────────────┼────────────────┼─────────────┼──────────┼────────────────────────────┤\n",
       "│\u001b[34m \u001b[0m\u001b[34msmall_meerkat.ms                        \u001b[0m\u001b[34m \u001b[0m│\u001b[32m \u001b[0m\u001b[32mCASA MS v2    \u001b[0m\u001b[32m \u001b[0m│\u001b[32m \u001b[0m\u001b[32mMeerKAT    \u001b[0m\u001b[32m \u001b[0m│\u001b[32m \u001b[0m\u001b[32m0.018   \u001b[0m\u001b[32m \u001b[0m│\u001b[32m \u001b[0m\u001b[32mInterferometer            \u001b[0m\u001b[32m \u001b[0m│\n",
       "├──────────────────────────────────────────┼────────────────┼─────────────┼──────────┼────────────────────────────┤\n",
       "│\u001b[34m \u001b[0m\u001b[34mglobal_vlbi_gg084b_reduced.ms           \u001b[0m\u001b[34m \u001b[0m│\u001b[32m \u001b[0m\u001b[32mCASA MS v2    \u001b[0m\u001b[32m \u001b[0m│\u001b[32m \u001b[0m\u001b[32mGLOBAL VLBI\u001b[0m\u001b[32m \u001b[0m│\u001b[32m \u001b[0m\u001b[32m0.051   \u001b[0m\u001b[32m \u001b[0m│\u001b[32m \u001b[0m\u001b[32mVLBI                      \u001b[0m\u001b[32m \u001b[0m│\n",
       "├──────────────────────────────────────────┼────────────────┼─────────────┼──────────┼────────────────────────────┤\n",
       "│\u001b[34m \u001b[0m\u001b[34mVLBA_TL016B_split_lsrk.ms               \u001b[0m\u001b[34m \u001b[0m│\u001b[32m \u001b[0m\u001b[32mCASA MS v2    \u001b[0m\u001b[32m \u001b[0m│\u001b[32m \u001b[0m\u001b[32mVLBA       \u001b[0m\u001b[32m \u001b[0m│\u001b[32m \u001b[0m\u001b[32m0.019   \u001b[0m\u001b[32m \u001b[0m│\u001b[32m \u001b[0m\u001b[32mVLBI                      \u001b[0m\u001b[32m \u001b[0m│\n",
       "├──────────────────────────────────────────┼────────────────┼─────────────┼──────────┼────────────────────────────┤\n",
       "│\u001b[34m \u001b[0m\u001b[34mngEHT_E17A10.0.bin0000.source0000_split…\u001b[0m\u001b[34m \u001b[0m│\u001b[32m \u001b[0m\u001b[32mCASA MS v2    \u001b[0m\u001b[32m \u001b[0m│\u001b[32m \u001b[0m\u001b[32mngEHT      \u001b[0m\u001b[32m \u001b[0m│\u001b[32m \u001b[0m\u001b[32m0.022   \u001b[0m\u001b[32m \u001b[0m│\u001b[32m \u001b[0m\u001b[32mSimulated Interferometer  \u001b[0m\u001b[32m \u001b[0m│\n",
       "├──────────────────────────────────────────┼────────────────┼─────────────┼──────────┼────────────────────────────┤\n",
       "│\u001b[34m \u001b[0m\u001b[34mvenus_ephem_test.ms                     \u001b[0m\u001b[34m \u001b[0m│\u001b[32m \u001b[0m\u001b[32mCASA MS v2    \u001b[0m\u001b[32m \u001b[0m│\u001b[32m \u001b[0m\u001b[32mALMA       \u001b[0m\u001b[32m \u001b[0m│\u001b[32m \u001b[0m\u001b[32m0.035   \u001b[0m\u001b[32m \u001b[0m│\u001b[32m \u001b[0m\u001b[32mInterferometer Ephemeris  \u001b[0m\u001b[32m \u001b[0m│\n",
       "├──────────────────────────────────────────┼────────────────┼─────────────┼──────────┼────────────────────────────┤\n",
       "│\u001b[34m \u001b[0m\u001b[34msdimaging.ms                            \u001b[0m\u001b[34m \u001b[0m│\u001b[32m \u001b[0m\u001b[32mCASA MS v2    \u001b[0m\u001b[32m \u001b[0m│\u001b[32m \u001b[0m\u001b[32mALMA       \u001b[0m\u001b[32m \u001b[0m│\u001b[32m \u001b[0m\u001b[32m0.035   \u001b[0m\u001b[32m \u001b[0m│\u001b[32m \u001b[0m\u001b[32mSingle Dish               \u001b[0m\u001b[32m \u001b[0m│\n",
       "├──────────────────────────────────────────┼────────────────┼─────────────┼──────────┼────────────────────────────┤\n",
       "│\u001b[34m \u001b[0m\u001b[34mALMA_uid___A002_X1003af4_X75a3.split.av…\u001b[0m\u001b[34m \u001b[0m│\u001b[32m \u001b[0m\u001b[32mCASA MS v2    \u001b[0m\u001b[32m \u001b[0m│\u001b[32m \u001b[0m\u001b[32mALMA       \u001b[0m\u001b[32m \u001b[0m│\u001b[32m \u001b[0m\u001b[32m0.107   \u001b[0m\u001b[32m \u001b[0m│\u001b[32m \u001b[0m\u001b[32mInterferometer Ephemeris  \u001b[0m\u001b[32m \u001b[0m│\n",
       "├──────────────────────────────────────────┼────────────────┼─────────────┼──────────┼────────────────────────────┤\n",
       "│\u001b[34m \u001b[0m\u001b[34mfeather_sim_sd_c1_pI.im                 \u001b[0m\u001b[34m \u001b[0m│\u001b[32m \u001b[0m\u001b[32mimage         \u001b[0m\u001b[32m \u001b[0m│\u001b[32m \u001b[0m\u001b[32mSimulated  \u001b[0m\u001b[32m \u001b[0m│\u001b[32m \u001b[0m\u001b[32m0.065   \u001b[0m\u001b[32m \u001b[0m│\u001b[32m \u001b[0m\u001b[32mSimulated                 \u001b[0m\u001b[32m \u001b[0m│\n",
       "├──────────────────────────────────────────┼────────────────┼─────────────┼──────────┼────────────────────────────┤\n",
       "│\u001b[34m \u001b[0m\u001b[34mfeather_sim_vla_c1_pI.im                \u001b[0m\u001b[34m \u001b[0m│\u001b[32m \u001b[0m\u001b[32mimage         \u001b[0m\u001b[32m \u001b[0m│\u001b[32m \u001b[0m\u001b[32mSimulated  \u001b[0m\u001b[32m \u001b[0m│\u001b[32m \u001b[0m\u001b[32m0.065   \u001b[0m\u001b[32m \u001b[0m│\u001b[32m \u001b[0m\u001b[32mSimulated                 \u001b[0m\u001b[32m \u001b[0m│\n",
       "├──────────────────────────────────────────┼────────────────┼─────────────┼──────────┼────────────────────────────┤\n",
       "│\u001b[34m \u001b[0m\u001b[34mngEHT_E17A10.0.bin0000.source0000_split…\u001b[0m\u001b[34m \u001b[0m│\u001b[32m \u001b[0m\u001b[32mCASA MS v2    \u001b[0m\u001b[32m \u001b[0m│\u001b[32m \u001b[0m\u001b[32mngEHT      \u001b[0m\u001b[32m \u001b[0m│\u001b[32m \u001b[0m\u001b[32m0.022   \u001b[0m\u001b[32m \u001b[0m│\u001b[32m \u001b[0m\u001b[32mSimulated                 \u001b[0m\u001b[32m \u001b[0m│\n",
       "├──────────────────────────────────────────┼────────────────┼─────────────┼──────────┼────────────────────────────┤\n",
       "│\u001b[34m \u001b[0m\u001b[34mVLBA_TL016B_split.ms                    \u001b[0m\u001b[34m \u001b[0m│\u001b[32m \u001b[0m\u001b[32mCASA MS v2    \u001b[0m\u001b[32m \u001b[0m│\u001b[32m \u001b[0m\u001b[32mVLBA       \u001b[0m\u001b[32m \u001b[0m│\u001b[32m \u001b[0m\u001b[32m0.019   \u001b[0m\u001b[32m \u001b[0m│\u001b[32m \u001b[0m\u001b[32mInterferometer            \u001b[0m\u001b[32m \u001b[0m│\n",
       "├──────────────────────────────────────────┼────────────────┼─────────────┼──────────┼────────────────────────────┤\n",
       "│\u001b[34m \u001b[0m\u001b[34mcombine_weight_array                    \u001b[0m\u001b[34m \u001b[0m│\u001b[32m \u001b[0m\u001b[32mnpy           \u001b[0m\u001b[32m \u001b[0m│\u001b[32m \u001b[0m\u001b[32mna         \u001b[0m\u001b[32m \u001b[0m│\u001b[32m \u001b[0m\u001b[32m0.0094  \u001b[0m\u001b[32m \u001b[0m│\u001b[32m \u001b[0m\u001b[32mna                        \u001b[0m\u001b[32m \u001b[0m│\n",
       "└──────────────────────────────────────────┴────────────────┴─────────────┴──────────┴────────────────────────────┘\n"
      ]
     },
     "metadata": {},
     "output_type": "display_data"
    }
   ],
   "source": [
    "toolviper.utils.data.list_files()"
   ]
  }
 ],
 "metadata": {
  "kernelspec": {
   "display_name": "Python 3 (ipykernel)",
   "language": "python",
   "name": "python3"
  },
  "language_info": {
   "codemirror_mode": {
    "name": "ipython",
    "version": 3
   },
   "file_extension": ".py",
   "mimetype": "text/x-python",
   "name": "python",
   "nbconvert_exporter": "python",
   "pygments_lexer": "ipython3",
   "version": "3.9.19"
  }
 },
 "nbformat": 4,
 "nbformat_minor": 5
}
