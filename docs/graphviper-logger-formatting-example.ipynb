{
 "cells": [
  {
   "cell_type": "code",
   "execution_count": 1,
   "id": "25c74380",
   "metadata": {},
   "outputs": [],
   "source": [
    "import toolviper.utils.console as console"
   ]
  },
  {
   "cell_type": "code",
   "execution_count": 2,
   "id": "49e07fb6",
   "metadata": {},
   "outputs": [],
   "source": [
    "colorize = console.Colorize()"
   ]
  },
  {
   "cell_type": "markdown",
   "id": "3300483b-f961-4777-a6f5-e9d34eef8fbe",
   "metadata": {},
   "source": [
    "## Color and text formatting for terminal an logging\n",
    "\n",
    "The colorize module provides a simple way to add text formatting and colors to text output and logging applications. Colorize supports the True color palette. This module was developed specifically for applications within the toolviper framework but is applicable outside as well. There are a number of excellent libraries for these purposes they don't work exactly as needed in the toolviper framework.\n",
    "\n",
    "**ASCII Escape codes:** \n",
    "https://gist.github.com/fnky/458719343aabd01cfb17a3a4f7296797\n",
    "\n",
    "**True color palette:**\n",
    "https://en.wikipedia.org/wiki/Color_depth#True_color_.2824-bit.29"
   ]
  },
  {
   "cell_type": "markdown",
   "id": "0e936aee-e6d8-46ff-bfc9-506ef9625c85",
   "metadata": {},
   "source": [
    "## Text formatting\n",
    "\n",
    "Supported text formats. Note not all terminals support these formatting options.\n",
    "\n",
    "- Bold\n",
    "- Faint\n",
    "- Italics\n",
    "- Underline\n",
    "- Blink\n",
    "- Highlight"
   ]
  },
  {
   "cell_type": "code",
   "execution_count": 3,
   "id": "85a7848e-acce-4a34-8ace-80045c22ddbb",
   "metadata": {},
   "outputs": [
    {
     "name": "stdout",
     "output_type": "stream",
     "text": [
      "Let's format some \u001b[1mtext\u001b[0m!\n"
     ]
    }
   ],
   "source": [
    "print(\"Let's format some {text}!\".format(text=colorize.bold(\"text\")))"
   ]
  },
  {
   "cell_type": "code",
   "execution_count": 4,
   "id": "77c1abed-d2b5-4f93-930a-6abe02b83547",
   "metadata": {},
   "outputs": [
    {
     "name": "stdout",
     "output_type": "stream",
     "text": [
      "Let's format some \u001b[4mtext\u001b[0m!\n"
     ]
    }
   ],
   "source": [
    "print(\"Let's format some {text}!\".format(text=colorize.underline(\"text\")))"
   ]
  },
  {
   "cell_type": "markdown",
   "id": "fa3b8b24-63b1-47af-b6d5-b2a8258bfa5b",
   "metadata": {},
   "source": [
    "## Adding default color options\n",
    "\n",
    "**Options:**\n",
    "- black\n",
    "- grey\n",
    "- red\n",
    "- green\n",
    "- yellow\n",
    "- orange\n",
    "- blue\n",
    "- purple\n",
    "- white\n",
    "- alert"
   ]
  },
  {
   "cell_type": "code",
   "execution_count": 5,
   "id": "6b579048",
   "metadata": {},
   "outputs": [
    {
     "name": "stdout",
     "output_type": "stream",
     "text": [
      "Let's format some \u001b[38;2;220;20;60mtext\u001b[0m!\n"
     ]
    }
   ],
   "source": [
    "print(\"Let's format some {text}!\".format(text=colorize.red(\"text\")))"
   ]
  },
  {
   "cell_type": "code",
   "execution_count": 6,
   "id": "5f6d0b00-580e-42ac-a4da-5458b0854e8a",
   "metadata": {},
   "outputs": [
    {
     "name": "stdout",
     "output_type": "stream",
     "text": [
      "Let's format some \u001b[7;38;2;220;60;20mtext\u001b[0m!\n"
     ]
    }
   ],
   "source": [
    "print(\"Let's format some {text}!\".format(text=colorize.alert(\"text\")))"
   ]
  },
  {
   "cell_type": "markdown",
   "id": "438843d6-1775-4f91-b6b5-0159a46cd4d6",
   "metadata": {},
   "source": [
    "## Customized formatting\n",
    "\n",
    "Options can be combine using the `format(text, color, bold, italics, faint, underline, highlight, blink)`. The `format` function can take the color either as a string, default color values listed above, or as a color array which allows any terminal supported true color value, e.g. crimson red = [220, 20, 60]."
   ]
  },
  {
   "cell_type": "code",
   "execution_count": 7,
   "id": "54ea8c43",
   "metadata": {},
   "outputs": [
    {
     "name": "stdout",
     "output_type": "stream",
     "text": [
      "Let's format some \u001b[1;4;38;2;128;05;128mtext\u001b[0m!\n"
     ]
    }
   ],
   "source": [
    "print(\n",
    "    \"Let's format some {text}!\".format(\n",
    "        text=colorize.format(text=\"text\", color=\"purple\", bold=True, underline=True)\n",
    "    )\n",
    ")"
   ]
  },
  {
   "cell_type": "code",
   "execution_count": 8,
   "id": "fe0edaba",
   "metadata": {},
   "outputs": [
    {
     "name": "stdout",
     "output_type": "stream",
     "text": [
      "Let's format some critical \u001b[7;38;2;220;20;60mtext\u001b[0m!\n"
     ]
    }
   ],
   "source": [
    "print(\n",
    "    \"Let's format some critical {text}!\".format(\n",
    "        text=colorize.format(text=\"text\", color=\"red\", highlight=True)\n",
    "    )\n",
    ")"
   ]
  },
  {
   "cell_type": "code",
   "execution_count": 9,
   "id": "a822b7c2",
   "metadata": {},
   "outputs": [
    {
     "name": "stdout",
     "output_type": "stream",
     "text": [
      "Let's format some critical \u001b[0;38;2;33;150;243mtext\u001b[0m!\n"
     ]
    }
   ],
   "source": [
    "print(\n",
    "    \"Let's format some critical {text}!\".format(\n",
    "        text=colorize.format(text=\"text\", color=[33, 150, 243])\n",
    "    )\n",
    ")"
   ]
  },
  {
   "cell_type": "markdown",
   "id": "43b26c36-e168-489e-a1d6-7ad899ab1557",
   "metadata": {},
   "source": [
    "## Adding function callback verbosity information\n",
    "\n",
    "Function callback information can be added to any text using the `add_verbose_info()` function. This will add a label indicating the calling function to any ouput text."
   ]
  },
  {
   "cell_type": "code",
   "execution_count": 10,
   "id": "5b8611da",
   "metadata": {},
   "outputs": [],
   "source": [
    "def some_function_to_log():\n",
    "    def test():\n",
    "        print(console.add_verbose_info(\"Here is some special text\", color=\"blue\"))\n",
    "\n",
    "    test()"
   ]
  },
  {
   "cell_type": "code",
   "execution_count": 11,
   "id": "f1ae62b5",
   "metadata": {},
   "outputs": [
    {
     "name": "stdout",
     "output_type": "stream",
     "text": [
      "[\u001b[38;2;50;50;205msome_function_to_log\u001b[0m]: Here is some special text\n"
     ]
    }
   ],
   "source": [
    "some_function_to_log()"
   ]
  },
  {
   "cell_type": "markdown",
   "id": "1545384b-8e5e-4f0f-9d73-a1cb3b036125",
   "metadata": {},
   "source": [
    "## Simple logging using toolviper logger.\n",
    "\n",
    "The skriba logger is simple to use and will automatically spawn a default logger instance. The setup method is also available for a customized setup,\n",
    "\n",
    "```\n",
    "setup_logger(\n",
    "        logger_name = None,\n",
    "        log_to_term = False,\n",
    "        log_to_file = True,\n",
    "        log_file = 'LOGGER',\n",
    "        log_level = 'INFO',\n",
    ")\n",
    "```"
   ]
  },
  {
   "cell_type": "code",
   "execution_count": 12,
   "id": "11e59b05",
   "metadata": {},
   "outputs": [],
   "source": [
    "import toolviper.utils.logger as logger"
   ]
  },
  {
   "cell_type": "code",
   "execution_count": 13,
   "id": "4f24c870",
   "metadata": {},
   "outputs": [],
   "source": [
    "logger.get_logger(\"LOGGER\").setLevel(\"DEBUG\")"
   ]
  },
  {
   "cell_type": "code",
   "execution_count": 14,
   "id": "9b236679",
   "metadata": {},
   "outputs": [
    {
     "name": "stdout",
     "output_type": "stream",
     "text": [
      "[\u001b[38;2;128;05;128m2024-07-15 14:39:34,485\u001b[0m] \u001b[38;2;50;50;205m    INFO\u001b[0m\u001b[38;2;112;128;144m  toolviper: \u001b[0m Here is an info message. \n",
      "[\u001b[38;2;128;05;128m2024-07-15 14:39:34,485\u001b[0m] \u001b[38;2;255;160;0m WARNING\u001b[0m\u001b[38;2;112;128;144m  toolviper: \u001b[0m Here is an warning message. \n",
      "[\u001b[38;2;128;05;128m2024-07-15 14:39:34,490\u001b[0m] \u001b[38;2;220;20;60m   ERROR\u001b[0m\u001b[38;2;112;128;144m  toolviper: \u001b[0m [\u001b[38;2;220;20;60m<module>\u001b[0m]: Here is an error message.\n",
      "[\u001b[38;2;128;05;128m2024-07-15 14:39:34,494\u001b[0m] \u001b[7;38;2;220;60;20mCRITICAL\u001b[0m\u001b[38;2;112;128;144m  toolviper: \u001b[0m [\u001b[7;38;2;220;60;20m<module>\u001b[0m]: Here is an critical message.\n"
     ]
    }
   ],
   "source": [
    "logger.info(\"Here is an info message.\")\n",
    "logger.warning(\"Here is an warning message.\")\n",
    "logger.debug(\"Here is an debug message.\")\n",
    "logger.error(\"Here is an error message.\")\n",
    "logger.critical(\"Here is an critical message.\")"
   ]
  },
  {
   "cell_type": "code",
   "execution_count": 15,
   "id": "2d2b8d48",
   "metadata": {},
   "outputs": [
    {
     "name": "stdout",
     "output_type": "stream",
     "text": [
      "[\u001b[38;2;128;05;128m2024-07-15 14:39:34,503\u001b[0m] \u001b[38;2;50;50;205m    INFO\u001b[0m\u001b[38;2;112;128;144m  toolviper: \u001b[0m [\u001b[38;2;50;50;205mverbose_log\u001b[0m]: Here's a info message. \n",
      "[\u001b[38;2;128;05;128m2024-07-15 14:39:34,508\u001b[0m] \u001b[38;2;255;160;0m WARNING\u001b[0m\u001b[38;2;112;128;144m  toolviper: \u001b[0m [\u001b[38;2;255;160;0mverbose_log\u001b[0m]: Here's a warning message. \n",
      "[\u001b[38;2;128;05;128m2024-07-15 14:39:34,517\u001b[0m] \u001b[38;2;220;20;60m   ERROR\u001b[0m\u001b[38;2;112;128;144m  toolviper: \u001b[0m [\u001b[38;2;220;20;60mverbose_log\u001b[0m]: Here's a error message.\n",
      "[\u001b[38;2;128;05;128m2024-07-15 14:39:34,522\u001b[0m] \u001b[7;38;2;220;60;20mCRITICAL\u001b[0m\u001b[38;2;112;128;144m  toolviper: \u001b[0m [\u001b[7;38;2;220;60;20mverbose_log\u001b[0m]: Here's a critical message.\n"
     ]
    }
   ],
   "source": [
    "def verbose_log():\n",
    "    logger.info(\"Here's a info message.\", verbose=True)\n",
    "    logger.warning(\"Here's a warning message.\", verbose=True)\n",
    "    logger.debug(\"Here's a debug message.\", verbose=True)\n",
    "    logger.error(\"Here's a error message.\", verbose=True)\n",
    "    logger.critical(\"Here's a critical message.\", verbose=True)\n",
    "\n",
    "\n",
    "verbose_log()"
   ]
  },
  {
   "cell_type": "markdown",
   "id": "cf7e792c-1bc5-4c86-bd94-cfd1a4138110",
   "metadata": {},
   "source": [
    "### Directly setting verbosity for testing and debugging.\n",
    "This will toggle the verbose flag for all logging levels. The `state` can be either `logger.VERBOSE` or `logger.DEFAULT`."
   ]
  },
  {
   "cell_type": "code",
   "execution_count": 18,
   "id": "c9aa9c09-239b-4403-8d83-fb90c93c9782",
   "metadata": {},
   "outputs": [
    {
     "name": "stdout",
     "output_type": "stream",
     "text": [
      "Setting verbosity to True\n",
      "[\u001b[38;2;128;05;128m2024-07-15 14:41:56,056\u001b[0m] \u001b[38;2;50;50;205m    INFO\u001b[0m\u001b[38;2;112;128;144m  toolviper: \u001b[0m [\u001b[38;2;50;50;205mverbose_log\u001b[0m]: Here's a info message. \n",
      "[\u001b[38;2;128;05;128m2024-07-15 14:41:56,061\u001b[0m] \u001b[38;2;255;160;0m WARNING\u001b[0m\u001b[38;2;112;128;144m  toolviper: \u001b[0m [\u001b[38;2;255;160;0mverbose_log\u001b[0m]: Here's a warning message. \n",
      "[\u001b[38;2;128;05;128m2024-07-15 14:41:56,072\u001b[0m] \u001b[38;2;220;20;60m   ERROR\u001b[0m\u001b[38;2;112;128;144m  toolviper: \u001b[0m [\u001b[38;2;220;20;60mverbose_log\u001b[0m]: Here's a error message.\n",
      "[\u001b[38;2;128;05;128m2024-07-15 14:41:56,078\u001b[0m] \u001b[7;38;2;220;60;20mCRITICAL\u001b[0m\u001b[38;2;112;128;144m  toolviper: \u001b[0m [\u001b[7;38;2;220;60;20mverbose_log\u001b[0m]: Here's a critical message.\n"
     ]
    }
   ],
   "source": [
    "logger.set_verbosity(state=logger.VERBOSE)\n",
    "verbose_log()"
   ]
  },
  {
   "cell_type": "code",
   "execution_count": null,
   "id": "a14d9eda-29a3-4470-801f-dc36958ed00d",
   "metadata": {},
   "outputs": [],
   "source": []
  }
 ],
 "metadata": {
  "kernelspec": {
   "display_name": "Python 3 (ipykernel)",
   "language": "python",
   "name": "python3"
  },
  "language_info": {
   "codemirror_mode": {
    "name": "ipython",
    "version": 3
   },
   "file_extension": ".py",
   "mimetype": "text/x-python",
   "name": "python",
   "nbconvert_exporter": "python",
   "pygments_lexer": "ipython3",
   "version": "3.9.19"
  }
 },
 "nbformat": 4,
 "nbformat_minor": 5
}
