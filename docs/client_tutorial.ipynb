{
 "cells": [
  {
   "cell_type": "code",
   "execution_count": null,
   "id": "ee62edf6-8a86-486a-aa81-61a8289146b1",
   "metadata": {},
   "outputs": [],
   "source": [
    "import toolviper\n",
    "\n",
    "from toolviper.dask import menrva\n",
    "from toolviper.dask.client import local_client\n",
    "\n",
    "from xradio.vis.convert_msv2_to_processing_set import convert_msv2_to_processing_set"
   ]
  },
  {
   "cell_type": "code",
   "execution_count": null,
   "id": "ad746bbe-5e1b-442b-bba7-e706b845d95f",
   "metadata": {},
   "outputs": [],
   "source": [
    "!rm -rf Antennae_North.cal.lsrk.split.vis.zarr"
   ]
  },
  {
   "cell_type": "code",
   "execution_count": null,
   "id": "070929df-e262-4d47-a3b1-c915bc0d58ad",
   "metadata": {},
   "outputs": [],
   "source": [
    "toolviper.utils.data.download(file=\"Antennae_North.cal.lsrk.split.ms\")"
   ]
  },
  {
   "cell_type": "code",
   "execution_count": null,
   "id": "5a1ed235-79df-4a7e-9798-7614efcd41de",
   "metadata": {},
   "outputs": [],
   "source": [
    "def main():\n",
    "    chunks_on_disk = {\n",
    "        \"frequency\": 3\n",
    "    }\n",
    "\n",
    "    input_file = \"Antennae_North.cal.lsrk.split.ms\"\n",
    "    output_file = \"Antennae_North.cal.lsrk.split.vis.zarr\"\n",
    "\n",
    "    convert_msv2_to_processing_set(\n",
    "        in_file=input_file,\n",
    "        out_file=output_file,\n",
    "        parallel=False,\n",
    "        overwrite=True,\n",
    "        main_chunksize=chunks_on_disk,\n",
    "    )"
   ]
  },
  {
   "cell_type": "code",
   "execution_count": null,
   "id": "0ee2e155-b0d8-41c6-a81e-bf59fe581991",
   "metadata": {},
   "outputs": [],
   "source": [
    "log_params = {\n",
    "    \"logger_name\": \"main-logger\",\n",
    "    \"log_level\": \"INFO\",\n",
    "    \"log_to_term\": True,\n",
    "    \"log_to_file\": False,\n",
    "}\n",
    "\n",
    "worker_log_params = {\n",
    "    \"logger_name\": \"worker-logger\",\n",
    "    \"log_level\": \"INFO\",\n",
    "    \"log_to_term\": True,\n",
    "    \"log_to_file\": False,\n",
    "    \"log_file\": None,\n",
    "}"
   ]
  },
  {
   "cell_type": "code",
   "execution_count": null,
   "id": "1e9b47f9-9d8e-4022-b763-74eb6a590071",
   "metadata": {},
   "outputs": [],
   "source": [
    "client = local_client(\n",
    "    cores=2,\n",
    "    memory_limit=\"8GB\",\n",
    "    log_params=log_params,\n",
    "    worker_log_params=worker_log_params,\n",
    "    serial_execution=False,\n",
    ")\n",
    "\n",
    "main()"
   ]
  },
  {
   "cell_type": "markdown",
   "id": "92375ac2-de6a-40ab-8459-68fd8416e40a",
   "metadata": {},
   "source": [
    "### Client | Cluster | Thread Information\n",
    "An instance of the Client or Cluster, if they exist, can be retrieved using the client module. These helper functions \n",
    "are useful in determining the current Dask client status. It can be useful to check the cluster status becuase sometimes \n",
    "even if the client is closed out the cluster instance will persist and multiple ports can be opened if a new client is \n",
    "not opened correctly."
   ]
  },
  {
   "cell_type": "code",
   "execution_count": null,
   "id": "fb71ca4a-4716-489b-89fc-3de041b1711e",
   "metadata": {},
   "outputs": [],
   "source": [
    "toolviper.dask.client.get_client()"
   ]
  },
  {
   "cell_type": "code",
   "execution_count": null,
   "id": "4c797f8c-82f0-48c0-94cc-60bcff25f232",
   "metadata": {},
   "outputs": [],
   "source": [
    "toolviper.dask.client.get_cluster()"
   ]
  },
  {
   "cell_type": "markdown",
   "id": "c3bb1a28-1fcd-4626-905a-2ee4adc8a6d6",
   "metadata": {},
   "source": [
    "There are two ways to get information about the client thread info. If a client instance exists, within the code block the user can simply run the `.thread_info()` method available from the client class. If the user is not usre if a client already exists or was instantiated in another code block, a helper method is available to get the thread info for the client. If a client instance does not exist, an estimation of the available local system resource is returned."
   ]
  },
  {
   "cell_type": "code",
   "execution_count": null,
   "id": "9d9199ca-a46c-46b4-ac0f-891e1aef55e0",
   "metadata": {},
   "outputs": [],
   "source": [
    "client.thread_info()"
   ]
  },
  {
   "cell_type": "code",
   "execution_count": null,
   "id": "e3f0404c-6055-4c7a-a90b-2f5daa073b00",
   "metadata": {},
   "outputs": [],
   "source": [
    "toolviper.dask.client.get_thread_info()"
   ]
  },
  {
   "cell_type": "markdown",
   "id": "f86ffa02-bf56-4d19-a192-9a51e8368d56",
   "metadata": {},
   "source": [
    "The client instance should shutdown once the python kernel is reset or the code runtime is finished, however if the user would like or needs to shutdown the client instance, they can call the `.shutdown()` method. Calling the client instance again the user should no longer see the html output showing the client information."
   ]
  },
  {
   "cell_type": "code",
   "execution_count": null,
   "id": "7ae09dc1-1c3e-43d2-945c-ccd645b12953",
   "metadata": {},
   "outputs": [],
   "source": [
    "client.shutdown()"
   ]
  },
  {
   "cell_type": "code",
   "execution_count": null,
   "id": "20f62ef9-84ee-4617-aedb-cdb486f366fe",
   "metadata": {},
   "outputs": [],
   "source": [
    "client"
   ]
  }
 ],
 "metadata": {
  "kernelspec": {
   "display_name": "Python 3 (ipykernel)",
   "language": "python",
   "name": "python3"
  },
  "language_info": {
   "codemirror_mode": {
    "name": "ipython",
    "version": 3
   },
   "file_extension": ".py",
   "mimetype": "text/x-python",
   "name": "python",
   "nbconvert_exporter": "python",
   "pygments_lexer": "ipython3",
   "version": "3.9.19"
  }
 },
 "nbformat": 4,
 "nbformat_minor": 5
}
